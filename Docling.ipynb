{
  "nbformat": 4,
  "nbformat_minor": 0,
  "metadata": {
    "colab": {
      "private_outputs": true,
      "provenance": [],
      "authorship_tag": "ABX9TyMYGu8NO8nSFhSe1RxrMiF0",
      "include_colab_link": true
    },
    "kernelspec": {
      "name": "python3",
      "display_name": "Python 3"
    },
    "language_info": {
      "name": "python"
    }
  },
  "cells": [
    {
      "cell_type": "markdown",
      "metadata": {
        "id": "view-in-github",
        "colab_type": "text"
      },
      "source": [
        "<a href=\"https://colab.research.google.com/github/elyas-nekach/docs/blob/main/Docling.ipynb\" target=\"_parent\"><img src=\"https://colab.research.google.com/assets/colab-badge.svg\" alt=\"Open In Colab\"/></a>"
      ]
    },
    {
      "cell_type": "code",
      "execution_count": null,
      "metadata": {
        "collapsed": true,
        "id": "1hsR5wtwwB9j"
      },
      "outputs": [],
      "source": [
        "# Install the latest docling package (typically from PyPI)\n",
        "!pip install --quiet docling\n"
      ]
    },
    {
      "cell_type": "code",
      "source": [
        "from google.colab import files\n",
        "\n",
        "# Upload a file manually from local system\n",
        "uploaded = files.upload()  # Allows multiple files\n",
        "file_paths = list(uploaded.keys())\n",
        "print(\"Uploaded file(s):\", file_paths)\n"
      ],
      "metadata": {
        "collapsed": true,
        "id": "B30QeOwpwbH7"
      },
      "execution_count": null,
      "outputs": []
    },
    {
      "cell_type": "code",
      "source": [
        "from docling.document_converter import DocumentConverter\n",
        "import os\n",
        "\n",
        "converter = DocumentConverter()\n",
        "outputs = {}\n",
        "\n",
        "for fname in file_paths:\n",
        "    # Convert to Docling document\n",
        "    doc = converter.convert(fname).document\n",
        "    # Output markdown file path\n",
        "    md_out = fname.rsplit('.', 1)[0] + \".md\"\n",
        "    # Save the Markdown output to a file\n",
        "    with open(md_out, \"w\", encoding=\"utf-8\") as f:\n",
        "        f.write(doc.export_to_markdown())\n",
        "    outputs[fname] = md_out\n",
        "    print(f\"Converted {fname} --> {md_out}\")\n"
      ],
      "metadata": {
        "collapsed": true,
        "id": "uxWDzcdmwpCA"
      },
      "execution_count": null,
      "outputs": []
    },
    {
      "cell_type": "code",
      "source": [
        "from google.colab import files\n",
        "\n",
        "# Download all converted markdown files\n",
        "for md_filename in outputs.values():\n",
        "    files.download(md_filename)\n"
      ],
      "metadata": {
        "id": "UYtjx0WDxIPN"
      },
      "execution_count": null,
      "outputs": []
    }
  ]
}